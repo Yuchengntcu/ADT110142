{
 "cells": [
  {
   "cell_type": "code",
   "execution_count": null,
   "id": "7ca571d4-fea7-452a-a531-7db3f832c5b2",
   "metadata": {},
   "outputs": [],
   "source": [
    "import requests\n",
    "from bs4 import BeautifulSoup\n",
    "\n",
    "\n",
    "url = 'https://2023ntcu.ntcu.edu.tw/'  \n",
    "\n",
    "\n",
    "response = requests.get(url)\n",
    "response.encoding = 'utf-8'  \n",
    "\n",
    "\n",
    "soup = BeautifulSoup(response.text, 'html.parser')\n",
    "\n",
    "\n",
    "keyword = '教育'  \n",
    "\n",
    "\n",
    "text_content = soup.get_text()\n",
    "keyword_count = text_content.count(keyword)\n",
    "\n",
    "print(f\"在網頁中找到關鍵字 '{keyword}' {keyword_count} 次\")\n"
   ]
  }
 ],
 "metadata": {
  "kernelspec": {
   "display_name": "Python 3 (ipykernel)",
   "language": "python",
   "name": "python3"
  },
  "language_info": {
   "codemirror_mode": {
    "name": "ipython",
    "version": 3
   },
   "file_extension": ".py",
   "mimetype": "text/x-python",
   "name": "python",
   "nbconvert_exporter": "python",
   "pygments_lexer": "ipython3",
   "version": "3.12.4"
  }
 },
 "nbformat": 4,
 "nbformat_minor": 5
}
